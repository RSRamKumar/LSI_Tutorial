{
 "cells": [
  {
   "cell_type": "code",
   "execution_count": 1,
   "metadata": {},
   "outputs": [],
   "source": [
    "import matplotlib.pyplot as plt\n",
    "import random, numpy as np, pandas as pd\n",
    "\n",
    "class Individual(object):\n",
    "\n",
    "    def __init__(self, alleles):\n",
    "        self.alleles = alleles         # class named \"Individual\" taking list of alleles as arguments\n",
    "\n",
    "    def get_fitness(self):   # method to calculate the fitness\n",
    "        final_fitness = 1\n",
    "        for a in self.alleles:\n",
    "            final_fitness = final_fitness * a.fitness\n",
    "        return final_fitness\n",
    "\n",
    "    def get_genotype(self): #Individual object as its argument, and concatenates \n",
    "                           #the name of each allele to generate the genotype\n",
    "        result = ''\n",
    "        for a in self.alleles:\n",
    "            result = result + a.name\n",
    "        return result\n",
    "\n",
    "class Allele(object):\n",
    " \n",
    "    def __init__(self, name, fitness):   # class named \"Allele\" having name and fitness as attributes\n",
    "        self.name = name\n",
    "        self.fitness = fitness\n",
    "\n",
    "class Locus(object):\n",
    "\n",
    "    def __init__(self, name):    # class named \"Locus\" to hold the alleles using a list\n",
    "        self.name = name\n",
    "        self.alleles = []\n",
    "\n",
    "    def add_allele(self, allele):  # method to add alleles \n",
    "        self.alleles.append(allele)\n",
    "\n",
    "    def get_random_allele(self):   # method to pick a random allele\n",
    "        return random.choice(self.alleles)\n",
    "\n",
    "def create_individual(loci): # creates and returns Individuals with randomly-picked alleles, given a set of loci\n",
    "    alleles_for_individual = []\n",
    "    for locus in loci:\n",
    "        alleles_for_individual.append(locus.get_random_allele())\n",
    "    i = Individual(alleles_for_individual)\n",
    "    return i\n",
    "\n",
    "def create_population(size, loci):  # method to create a population\n",
    "    all_individuals = []\n",
    "    for i in range(size):\n",
    "        all_individuals.append(create_individual(loci))\n",
    "    return all_individuals\n",
    "\n",
    "def summarize_alleles_header(loci, output_file):\n",
    "    for locus in loci:\n",
    "        for allele in locus.alleles:\n",
    "            alleles_output.write(allele.name + ',')\n",
    "    alleles_output.write('\\n')\n",
    "\n",
    "def summarize_alleles(population, loci, output_file):\n",
    "    for locus in loci:                           # method for writing allele frequency in output file\n",
    "        for allele in locus.alleles:\n",
    "            freq = get_allele_frequency(population, allele)\n",
    "            output_file.write(str(freq) + ',')\n",
    "    output_file.write('\\n')\n",
    "\n",
    "def get_allele_frequency(population, allele):  # method to calculate the allele frequency\n",
    "    allele_count = 0\n",
    "    for individual in population:\n",
    "        if allele in individual.alleles:\n",
    "            allele_count += 1\n",
    "    return allele_count / len(population)\n",
    "\n",
    "def individual_from_population(population, loci):\n",
    "    individual_alleles = []\n",
    "    for locus in loci:\n",
    "        all_alleles = []                  # method to pick random allele in a population belong to a locus\n",
    "        for individual in population:\n",
    "            for allele in individual.alleles:\n",
    "                if allele in locus.alleles:\n",
    "                    all_alleles.append(allele)\n",
    "        this_allele = random.choice(all_alleles)\n",
    "        individual_alleles.append(this_allele)\n",
    "    return Individual(individual_alleles)\n",
    "\n",
    "def single_generation(population):   # method to remove the individual from the population if it has low fitness score\n",
    "    for individual in list(population):\n",
    "        if random.random() > individual.get_fitness():\n",
    "            population.remove(individual)\n",
    "    for i in range(100 - len(population)):\n",
    "        population.append(individual_from_population(population, all_loci))\n",
    "\n",
    "locus1 = Locus('locus one')\n",
    "locus1.add_allele(Allele('A', 1))\n",
    "locus1.add_allele(Allele('a', 0.9))\n",
    "locus2 = Locus('locus two')       # Initializing the locus ,alleles\n",
    "locus2.add_allele(Allele('B', 1))\n",
    "locus2.add_allele(Allele('b', 0.8))\n",
    "locus3 = Locus('locus three')\n",
    "locus3.add_allele(Allele('C', 1))\n",
    "locus3.add_allele(Allele('c', 0.7))\n",
    "all_loci = [locus1, locus2, locus3]\n",
    "\n",
    "my_population = create_population(100, all_loci)   # function calls for generation of population\n",
    "alleles_output = open(r'C:\\Users\\Ram Kumar R S\\Desktop\\alleles.csv', 'w')\n",
    "summarize_alleles_header( all_loci, alleles_output)\n",
    "\n",
    "for i in range(100):\n",
    "    summarize_alleles(my_population, all_loci, alleles_output)\n",
    "    single_generation(my_population)        \n",
    "alleles_output.close()"
   ]
  },
  {
   "cell_type": "code",
   "execution_count": 2,
   "metadata": {},
   "outputs": [
    {
     "data": {
      "text/plain": [
       "Text(0.5, 1.0, 'Simulated Allele Frequency')"
      ]
     },
     "execution_count": 2,
     "metadata": {},
     "output_type": "execute_result"
    },
    {
     "data": {
      "image/png": "[encoded data removed]",
      "text/plain": [
       "<Figure size 432x288 with 1 Axes>"
      ]
     },
     "metadata": {
      "needs_background": "light"
     },
     "output_type": "display_data"
    }
   ],
   "source": [
    "gen=np.arange(0,100)  # The generations\n",
    "f1=pd.read_csv(r'C:\\Users\\Ram Kumar R S\\Desktop\\alleles.csv') # Reading the csv file\n",
    "A,a,B,b,C,c=f1['A'],f1['a'],f1['B'],f1['b'],f1['C'],f1['c']  # Extracting the required columns and assignments\n",
    "\n",
    "plt.plot(gen,A,label='A(1)')\n",
    "plt.plot(gen,a,label='a(0.9)')\n",
    "plt.plot(gen,B,label='B(1)')\n",
    "plt.plot(gen,b,label='b(0.8)')\n",
    "plt.plot(gen,C,label='C(1)')\n",
    "plt.plot(gen,c,label='c(0.7)')\n",
    "plt.xlabel(\"Different Generations\")\n",
    "plt.ylabel('Frequency Distribution')\n",
    "plt.legend()\n",
    "plt.title('Simulated Allele Frequency')"
   ]
  },
  {
   "cell_type": "code",
   "execution_count": null,
   "metadata": {},
   "outputs": [],
   "source": []
  }
 ],
 "metadata": {
  "kernelspec": {
   "display_name": "Python 3",
   "language": "python",
   "name": "python3"
  },
  "language_info": {
   "codemirror_mode": {
    "name": "ipython",
    "version": 3
   },
   "file_extension": ".py",
   "mimetype": "text/x-python",
   "name": "python",
   "nbconvert_exporter": "python",
   "pygments_lexer": "ipython3",
   "version": "3.7.3"
  }
 },
 "nbformat": 4,
 "nbformat_minor": 2
}
