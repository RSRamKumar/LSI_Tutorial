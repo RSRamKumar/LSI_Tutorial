{
 "cells": [
  {
   "cell_type": "code",
   "execution_count": 7,
   "metadata": {},
   "outputs": [
    {
     "name": "stdout",
     "output_type": "stream",
     "text": [
      "Alright, Everything done! printing for ENSCAFT00000004569.3 cds\n",
      "Alright, Everything done! printing for ENSCAFT00000004569.3 ENSCAFE00000296668 exon\n",
      "Alright, Everything done! printing for ENSCAFT00000004569.3 ENSCAFE00000031066 exon\n",
      "Alright, Everything done! printing for ENSCAFT00000004569.3 ENSCAFE00000031069 exon\n",
      "Alright, Everything done! printing for ENSCAFT00000004569.3 intron 1\n",
      "Alright, Everything done! printing for ENSCAFT00000004569.3 intron 2\n"
     ]
    }
   ],
   "source": [
    "# Input file reading using readlines method\n",
    "with open (r'C:\\Users\\Ram Kumar R S\\Downloads\\CYCS_dog.txt','r') as f:\n",
    "    x=f.readlines()   # x is list that contains the data separated by a ',' separator\n",
    "\n",
    "# Method to split the header and sequence\n",
    "list_of_headers=[]\n",
    "sequence=[]\n",
    "for i in x:\n",
    "    if i[0]==\">\": # appending the header of the sequence\n",
    "        list_of_headers.append(i.strip('\\n').strip('>'))\n",
    "    else: # appending the sequence itself\n",
    "        sequence.append(i.strip('\\n'))\n",
    "\n",
    "# Method to modify the sequence in such a way that it distinguishes one sequence to another\n",
    "        \n",
    "seq=''   \n",
    "for i in sequence:   \n",
    "    if i!='':    # checks for string characters\n",
    "        seq=seq+i\n",
    "    else:\n",
    "        seq=seq+'\\n'\n",
    "\n",
    "# Given below is a list with each sequences separated by ',' \n",
    "list_of_sequences=seq.split('\\n')\n",
    "\n",
    "# The total length of dog Cytochrome C gene\n",
    "complete_sequence=seq.replace('\\n','')\n",
    "len(complete_sequence)\n",
    "\n",
    "# It extract the required words from the fasta file header\n",
    "modified_headers=[]\n",
    "for i in list_of_headers:   # extracts the index value of -2 from the reverse reading\n",
    "    modified_headers.append(i.split(':')[-2])\n",
    "    \n",
    "# Calculate the number of exons, introns, cds\n",
    "count_exon=0\n",
    "count_intron=0\n",
    "count_CDS=0\n",
    "for i in list_of_headers:\n",
    "    if \"exon\" in i:  # counting exons\n",
    "        count_exon+=1\n",
    "    elif \"intron\" in i:  # counting intron\n",
    "        count_intron+=1\n",
    "    elif \"cds\" in i:  # counting cds\n",
    "        count_CDS+=1\n",
    "  \n",
    "# It calculates individual nucleotide counts, at content, gc content for each sequence   \n",
    "actg_counts=[] # empty list to hold the counts of nucleotides\n",
    "at_content=[]  # empty list to hold the at content of the sequences\n",
    "gc_content=[]  # empty list to hold the gc content of \n",
    "for i in list_of_sequences:\n",
    "    a,c,t,g=i.count('A'),i.count('C'),i.count('T'),i.count('G')  # count method applied\n",
    "    at=((i.count('A')+i.count(\"T\"))/(len(i)))*100                # at content calucation\n",
    "    gc=((i.count('G')+i.count('C'))/(len(i)))*100                # gc content calculation\n",
    "    actg_counts.append((a,c,t,g))    # appending of the counts\n",
    "    at_content.append(at)            # appending the at content\n",
    "    gc_content.append(gc)            # appending the gc content\n",
    "    \n",
    "\n",
    "# Output writing to a file\n",
    "with open(\"Result2.txt\",'w') as fout:\n",
    "    fout.write('The given dataset which is complete dog Cytochrome C Gene has {} introns, {} exons and {} CDS  in it.\\n'.format(count_intron,count_exon,count_CDS))\n",
    "    fout.write('The length of the complete dog Cytochrome C Gene is {}.\\n\\n'.format(len(complete_sequence)))\n",
    "    fout.write('The complete statistics is as follows:\\n\\n\\n')\n",
    "    for i in range(len(list_of_sequences)):\n",
    "        fout.write('The statistics of {} is below:\\n'.format(modified_headers[i]))\n",
    "        fout.write('The count of nucleotides are:\\n\\tA is {},\\n\\tC is {},\\n\\tT is {} and\\n\\tG is {}.\\n'.format(actg_counts[i][0],actg_counts[i][1],actg_counts[i][2],actg_counts[i][3]))\n",
    "        fout.write('The length of the sequence is {}.\\n'.format(len(list_of_sequences[i])))\n",
    "        fout.write('The AT content rounded to two decimal value is {:.2f}.\\n'.format(at_content[i]))\n",
    "        fout.write('The GC content rounded to two decimal value is {:.2f}.\\n\\n'.format(gc_content[i]))\n",
    "        print('Alright, Everything done!','printing for', modified_headers[i])\n",
    "   \n",
    "   \n",
    "\n"
   ]
  },
  {
   "cell_type": "code",
   "execution_count": null,
   "metadata": {},
   "outputs": [],
   "source": []
  }
 ],
 "metadata": {
  "kernelspec": {
   "display_name": "Python 3",
   "language": "python",
   "name": "python3"
  },
  "language_info": {
   "codemirror_mode": {
    "name": "ipython",
    "version": 3
   },
   "file_extension": ".py",
   "mimetype": "text/x-python",
   "name": "python",
   "nbconvert_exporter": "python",
   "pygments_lexer": "ipython3",
   "version": "3.7.3"
  }
 },
 "nbformat": 4,
 "nbformat_minor": 2
}
